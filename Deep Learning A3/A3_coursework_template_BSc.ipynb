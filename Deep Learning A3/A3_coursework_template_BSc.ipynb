{
 "cells": [
  {
   "attachments": {},
   "cell_type": "markdown",
   "id": "968d7e4c",
   "metadata": {},
   "source": [
    "# COMP6685 Deep Learning Assignment 3 (A3)\n",
    "# Student Name: Ben Haras-Gummer Student id: bh330\n",
    "Individual (25% of total mark)\n",
    "\n",
    "Task:\n",
    "You are required to develop a phyton code with additional comments to answer the question in the next section.\n",
    "\n",
    "Description:\n",
    "Create a code, in the provided template in Moodle, to train a Recurrent Neural Networks (RNN) on the public benchmark dataset named Poker Hand available at: https://archive.ics.uci.edu/ml/datasets/Poker+Hand.\n",
    "\n",
    "Poker Hand dataset is composed of one training set named “poker-hand-training-true.data” and one testing set named “poker-hand-testing.data”. You will need to download both training and testing sets into your local disk by clicking the Data Folder link (see the image below).\n",
    "\n",
    "In Poker Hand dataset, each data sample (row) is an example of a hand consisting of five playing cards drawn from a standard deck of 52. Each card is described using two attributes (suit and rank), for a total of 10 predictive attributes. There is one Class attribute that describes the \"Poker Hand\". You can find more information about this dataset from: https://www.kaggle.com/datasets/rasvob/uci-poker-hand-dataset\n",
    "\n",
    "The dataset should be imported in the code. An example on how to import the dataset to your code can be found from the link below: https://www.kaggle.com/code/rasvob/uci-poker-dataset-classification\n",
    "\n",
    "Note: This is only a template. You can add more code/text cells if necessary."
   ]
  },
  {
   "cell_type": "markdown",
   "id": "a58c673f",
   "metadata": {},
   "source": [
    "# Import the training and testing set in the cell below (10 marks)"
   ]
  },
  {
   "cell_type": "code",
   "execution_count": 34,
   "id": "9b578f4b",
   "metadata": {},
   "outputs": [],
   "source": [
    "import tensorflow as tf\n",
    "import pandas as pd\n",
    "import numpy as np\n",
    "from sklearn.model_selection import train_test_split, KFold\n",
    "import matplotlib.pyplot as plt\n",
    "from tensorflow.keras.models import Sequential\n",
    "from tensorflow.keras.utils import to_categorical\n",
    "from tensorflow.keras.layers import Dense, Dropout, SimpleRNN\n",
    "from tensorflow.keras.callbacks import EarlyStopping\n",
    "import pandas as pd\n",
    "from sklearn.preprocessing import StandardScaler, LabelEncoder\n",
    "from tensorflow.keras import regularizers\n",
    "# Load the dataset\n",
    "train_data = pd.read_csv(\"poker-hand-training-true.data\", header=None)\n",
    "test_data = pd.read_csv(\"poker-hand-testing.data\", header=None)\n",
    "\n",
    "# Split the dataset into input features and output labels\n",
    "X_train = train_data.iloc[:, :-1].values\n",
    "y_train = train_data.iloc[:, -1].values\n",
    "X_test = test_data.iloc[:, :-1].values\n",
    "y_test = test_data.iloc[:, -1].values\n",
    "\n",
    "# Encode the output labels as integers\n",
    "label_encoder = LabelEncoder()\n",
    "y_train = label_encoder.fit_transform(y_train)\n",
    "y_test = label_encoder.transform(y_test)\n",
    "\n",
    "# Normalize the input features\n",
    "scaler = StandardScaler()\n",
    "X_train = scaler.fit_transform(X_train)\n",
    "X_test = scaler.transform(X_test)\n",
    "\n",
    "# Split the preprocessed data into training and testing sets\n",
    "X_train, X_val, y_train, y_val = train_test_split(X_train, y_train, test_size=0.2, random_state=42)\n",
    "\n"
   ]
  },
  {
   "cell_type": "markdown",
   "id": "fa0bf739",
   "metadata": {},
   "source": [
    "# Implement the vanilla RNN in the cell below (20 marks)"
   ]
  },
  {
   "cell_type": "code",
   "execution_count": 35,
   "id": "3b4d6815",
   "metadata": {},
   "outputs": [
    {
     "name": "stdout",
     "output_type": "stream",
     "text": [
      "Model: \"sequential_7\"\n",
      "_________________________________________________________________\n",
      " Layer (type)                Output Shape              Param #   \n",
      "=================================================================\n",
      " simple_rnn_21 (SimpleRNN)   (None, 5, 128)            16768     \n",
      "                                                                 \n",
      " simple_rnn_22 (SimpleRNN)   (None, 5, 128)            32896     \n",
      "                                                                 \n",
      " simple_rnn_23 (SimpleRNN)   (None, 128)               32896     \n",
      "                                                                 \n",
      " dense_7 (Dense)             (None, 10)                1290      \n",
      "                                                                 \n",
      "=================================================================\n",
      "Total params: 83,850\n",
      "Trainable params: 83,850\n",
      "Non-trainable params: 0\n",
      "_________________________________________________________________\n"
     ]
    }
   ],
   "source": [
    "# Define the RNN model\n",
    "model = tf.keras.models.Sequential([\n",
    "    \n",
    "    # First RNN layer\n",
    "    tf.keras.layers.SimpleRNN(units=128, input_shape=(5, 2), activation='tanh', return_sequences=True, kernel_regularizer=regularizers.l1(1e-5)),\n",
    "\n",
    "    \n",
    "    # Second RNN layer\n",
    "    tf.keras.layers.SimpleRNN(units=128, activation='tanh', return_sequences=True, kernel_regularizer=regularizers.l1(1e-5)),\n",
    "\n",
    "    \n",
    "    # Third RNN layer\n",
    "    tf.keras.layers.SimpleRNN(units=128, activation='tanh', kernel_regularizer=regularizers.l1(1e-5)),\n",
    "   \n",
    "    \n",
    "    \n",
    "    # Output layer\n",
    "    tf.keras.layers.Dense(units=10, activation='softmax') \n",
    "])\n",
    "\n",
    "# Compile the model\n",
    "model.compile(optimizer='adam', loss='sparse_categorical_crossentropy', metrics=['accuracy'])\n",
    "\n",
    "# Print the model summary\n",
    "model.summary()\n"
   ]
  },
  {
   "cell_type": "markdown",
   "id": "787167e7",
   "metadata": {},
   "source": [
    "# Train the vanilla RNN based on the training set in the cell below (10 marks)"
   ]
  },
  {
   "cell_type": "code",
   "execution_count": 36,
   "id": "70d8896e",
   "metadata": {},
   "outputs": [
    {
     "name": "stdout",
     "output_type": "stream",
     "text": [
      "Epoch 1/40\n",
      "313/313 [==============================] - 4s 6ms/step - loss: 1.0653 - accuracy: 0.5034\n",
      "Epoch 2/40\n",
      "313/313 [==============================] - 2s 6ms/step - loss: 0.9946 - accuracy: 0.5332\n",
      "Epoch 3/40\n",
      "313/313 [==============================] - 2s 6ms/step - loss: 0.9889 - accuracy: 0.5344\n",
      "Epoch 4/40\n",
      "313/313 [==============================] - 2s 6ms/step - loss: 0.9852 - accuracy: 0.5368\n",
      "Epoch 5/40\n",
      "313/313 [==============================] - 2s 6ms/step - loss: 0.9780 - accuracy: 0.5459\n",
      "Epoch 6/40\n",
      "313/313 [==============================] - 2s 6ms/step - loss: 0.9753 - accuracy: 0.5413\n",
      "Epoch 7/40\n",
      "313/313 [==============================] - 2s 6ms/step - loss: 0.9658 - accuracy: 0.5535\n",
      "Epoch 8/40\n",
      "313/313 [==============================] - 2s 6ms/step - loss: 0.9548 - accuracy: 0.5590\n",
      "Epoch 9/40\n",
      "313/313 [==============================] - 2s 6ms/step - loss: 0.9349 - accuracy: 0.5770\n",
      "Epoch 10/40\n",
      "313/313 [==============================] - 2s 6ms/step - loss: 0.9032 - accuracy: 0.6029\n",
      "Epoch 11/40\n",
      "313/313 [==============================] - 2s 6ms/step - loss: 0.8538 - accuracy: 0.6370\n",
      "Epoch 12/40\n",
      "313/313 [==============================] - 2s 6ms/step - loss: 0.7910 - accuracy: 0.6710\n",
      "Epoch 13/40\n",
      "313/313 [==============================] - 2s 7ms/step - loss: 0.7330 - accuracy: 0.7035\n",
      "Epoch 14/40\n",
      "313/313 [==============================] - 2s 6ms/step - loss: 0.6372 - accuracy: 0.7557\n",
      "Epoch 15/40\n",
      "313/313 [==============================] - 2s 6ms/step - loss: 0.5660 - accuracy: 0.7902\n",
      "Epoch 16/40\n",
      "313/313 [==============================] - 2s 6ms/step - loss: 0.5008 - accuracy: 0.8171\n",
      "Epoch 17/40\n",
      "313/313 [==============================] - 2s 6ms/step - loss: 0.4564 - accuracy: 0.8377\n",
      "Epoch 18/40\n",
      "313/313 [==============================] - 2s 6ms/step - loss: 0.3778 - accuracy: 0.8722\n",
      "Epoch 19/40\n",
      "313/313 [==============================] - 2s 6ms/step - loss: 0.3291 - accuracy: 0.8897\n",
      "Epoch 20/40\n",
      "313/313 [==============================] - 2s 6ms/step - loss: 0.2427 - accuracy: 0.9248\n",
      "Epoch 21/40\n",
      "313/313 [==============================] - 2s 6ms/step - loss: 0.2807 - accuracy: 0.9146\n",
      "Epoch 22/40\n",
      "313/313 [==============================] - 2s 6ms/step - loss: 0.1687 - accuracy: 0.9577\n",
      "Epoch 23/40\n",
      "313/313 [==============================] - 2s 6ms/step - loss: 0.1875 - accuracy: 0.9491\n",
      "Epoch 24/40\n",
      "313/313 [==============================] - 2s 6ms/step - loss: 0.0928 - accuracy: 0.9884\n",
      "Epoch 25/40\n",
      "313/313 [==============================] - 2s 6ms/step - loss: 0.1929 - accuracy: 0.9474\n",
      "Epoch 26/40\n",
      "313/313 [==============================] - 2s 7ms/step - loss: 0.0784 - accuracy: 0.9899\n",
      "Epoch 27/40\n",
      "313/313 [==============================] - 2s 7ms/step - loss: 0.2188 - accuracy: 0.9385\n",
      "Epoch 28/40\n",
      "313/313 [==============================] - 2s 7ms/step - loss: 0.0664 - accuracy: 0.9925\n",
      "Epoch 29/40\n",
      "313/313 [==============================] - 2s 6ms/step - loss: 0.1832 - accuracy: 0.9491\n",
      "Epoch 30/40\n",
      "313/313 [==============================] - 2s 6ms/step - loss: 0.0646 - accuracy: 0.9919\n",
      "Epoch 31/40\n",
      "313/313 [==============================] - 2s 6ms/step - loss: 0.0973 - accuracy: 0.9790\n",
      "Epoch 32/40\n",
      "313/313 [==============================] - 2s 6ms/step - loss: 0.1436 - accuracy: 0.9656\n",
      "Epoch 33/40\n",
      "313/313 [==============================] - 2s 6ms/step - loss: 0.0546 - accuracy: 0.9941\n",
      "Epoch 34/40\n",
      "313/313 [==============================] - 2s 6ms/step - loss: 0.0481 - accuracy: 0.9952\n",
      "Epoch 35/40\n",
      "313/313 [==============================] - 2s 6ms/step - loss: 0.2047 - accuracy: 0.9439\n",
      "Epoch 36/40\n",
      "313/313 [==============================] - 2s 6ms/step - loss: 0.0673 - accuracy: 0.9933\n",
      "Epoch 37/40\n",
      "313/313 [==============================] - 2s 6ms/step - loss: 0.1473 - accuracy: 0.9624\n",
      "Epoch 38/40\n",
      "313/313 [==============================] - 2s 6ms/step - loss: 0.1282 - accuracy: 0.9685\n",
      "Epoch 39/40\n",
      "313/313 [==============================] - 2s 6ms/step - loss: 0.0814 - accuracy: 0.9845\n",
      "Epoch 40/40\n",
      "313/313 [==============================] - 2s 6ms/step - loss: 0.1296 - accuracy: 0.9676\n"
     ]
    }
   ],
   "source": [
    "# Train the model\n",
    "history = model.fit(X_train.reshape(-1, 5, 2), y_train, epochs=40, batch_size=64)\n"
   ]
  },
  {
   "cell_type": "markdown",
   "id": "390d408a",
   "metadata": {},
   "source": [
    "# Evaluate the vanilla RNN based on the testing set in the cell below (10 marks)"
   ]
  },
  {
   "cell_type": "code",
   "execution_count": 37,
   "id": "103814e3",
   "metadata": {},
   "outputs": [
    {
     "name": "stdout",
     "output_type": "stream",
     "text": [
      "31250/31250 [==============================] - 73s 2ms/step - loss: 0.0713 - accuracy: 0.9898\n",
      "Test Accuracy: 0.9898139834403992\n"
     ]
    }
   ],
   "source": [
    "# Evaluate the model on the testing set\n",
    "test_loss, test_accuracy = model.evaluate(X_test.reshape(-1, 5, 2), y_test)\n",
    "print(\"Test Accuracy:\", test_accuracy)\n"
   ]
  },
  {
   "cell_type": "markdown",
   "id": "02e62134",
   "metadata": {},
   "source": [
    "# Present the classification accuracy and confusion matrix of the vanilla RNN in the cell below (20 marks)"
   ]
  },
  {
   "cell_type": "code",
   "execution_count": 38,
   "id": "71fa3040",
   "metadata": {},
   "outputs": [
    {
     "name": "stdout",
     "output_type": "stream",
     "text": [
      "31250/31250 [==============================] - 61s 2ms/step\n",
      "Confusion Matrix:\n",
      " [[500420    292      0      0    473      0      0      0     20      4]\n",
      " [  1650 420399    408     13     28      0      0      0      0      0]\n",
      " [     0    477  46920    218      0      0      7      0      0      0]\n",
      " [     0     68    495  20505      0      0     52      1      0      0]\n",
      " [  3055     10      0      0    784      0      0      0     34      2]\n",
      " [  1992      1      0      0      3      0      0      0      0      0]\n",
      " [     0      0     40    622      0      0    762      0      0      0]\n",
      " [     0      0      1    199      0      0      6     24      0      0]\n",
      " [     7      0      0      0      5      0      0      0      0      0]\n",
      " [     2      0      0      0      1      0      0      0      0      0]]\n"
     ]
    },
    {
     "data": {
      "image/png": "[encoded data removed]",
      "text/plain": [
       "<Figure size 1000x500 with 2 Axes>"
      ]
     },
     "metadata": {},
     "output_type": "display_data"
    }
   ],
   "source": [
    "# Generate the confusion matrix\n",
    "y_pred = np.argmax(model.predict(X_test.reshape(-1, 5, 2)), axis=-1)\n",
    "confusion_matrix = tf.math.confusion_matrix(y_test, y_pred)\n",
    "print(\"Confusion Matrix:\\n\", confusion_matrix.numpy())\n",
    "\n",
    "# Plot the training loss and accuracy over time\n",
    "fig, ax = plt.subplots(1, 2, figsize=(10, 5))\n",
    "ax[0].plot(history.history['loss'])\n",
    "ax[0].set_title(\"Training Loss\")\n",
    "ax[0].set_xlabel(\"Epoch\")\n",
    "ax[0].set_ylabel(\"Loss\")\n",
    "ax[1].plot(history.history['accuracy'])\n",
    "ax[1].set_title(\"Training Accuracy\")\n",
    "ax[1].set_xlabel(\"Epoch\")\n",
    "ax[1].set_ylabel(\"Accuracy\")\n",
    "plt.show()\n"
   ]
  },
  {
   "attachments": {},
   "cell_type": "markdown",
   "id": "a0a76f85",
   "metadata": {},
   "source": [
    "# Answer the following question in the cell below (10 marks).\n",
    "# Question:\n",
    "Write your conclusions about the result achieved with your model on the poker hand dataset and ideas to improve these results/performance further.\n",
    "\n",
    "By utilising a simpleRNN with 3 layers I was able to achieve an accuracy of 0.8771 and loss of 0.3542 on the test set. \n",
    "\n",
    "I also used dropout layers to try and reduce overfitting but after removing the dropout layers the accuracy and loss were significantly better.\n",
    "\n",
    "After this change I was able to achieve an accuracy of 0.9941 and a loss of 0.0620.\n",
    "\n",
    "The training of this model seemed a lot harder than the previous assignment and required a lot of tinerking with the hyperparameters. \n",
    "\n",
    "Using 128 units in each layer yeilded the best accuray.\n",
    "\n",
    "I also tested out different optimisers such as RMSprop and Adamax but adam proved to be the best option.\n",
    "\n",
    "\n",
    "It would be hard to improve upon the accuracy of the model however I could try implementing early stopping to prevent overfitting. \n",
    "\n",
    "Also data augmentation could be used to increase the size of the training set and reduce overfitting and help to improve the models abilty to generalise.\n",
    "\n",
    "In summary im very satisfied with the results of this model and I think it is a good representation of the data. \n",
    "It also shows my progression and understanding of DNNs as I was unable to achieve this level of accuracy on the previous assignment which is arguably easier since its a binary classification problem."
   ]
  },
  {
   "cell_type": "markdown",
   "id": "255d48f2",
   "metadata": {},
   "source": [
    "Your answer here"
   ]
  },
  {
   "cell_type": "markdown",
   "id": "b91f5ab1",
   "metadata": {},
   "source": [
    "# Additional remarks:\n",
    "Code outline appropriately commented. (10 marks)\n",
    "\n",
    "Code running without errors. (10 marks)"
   ]
  }
 ],
 "metadata": {
  "kernelspec": {
   "display_name": "Python 3",
   "language": "python",
   "name": "python3"
  },
  "language_info": {
   "codemirror_mode": {
    "name": "ipython",
    "version": 3
   },
   "file_extension": ".py",
   "mimetype": "text/x-python",
   "name": "python",
   "nbconvert_exporter": "python",
   "pygments_lexer": "ipython3",
   "version": "3.10.4"
  }
 },
 "nbformat": 4,
 "nbformat_minor": 5
}
